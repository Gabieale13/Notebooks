{
 "cells": [
  {
   "cell_type": "code",
   "execution_count": 1,
   "id": "203aa649",
   "metadata": {},
   "outputs": [
    {
     "data": {
      "text/plain": [
       "7"
      ]
     },
     "execution_count": 1,
     "metadata": {},
     "output_type": "execute_result"
    }
   ],
   "source": [
    "7"
   ]
  },
  {
   "cell_type": "code",
   "execution_count": 2,
   "id": "df70f489",
   "metadata": {},
   "outputs": [
    {
     "data": {
      "text/plain": [
       "49"
      ]
     },
     "execution_count": 2,
     "metadata": {},
     "output_type": "execute_result"
    }
   ],
   "source": [
    "7 * 7"
   ]
  },
  {
   "cell_type": "code",
   "execution_count": 3,
   "id": "6671017f",
   "metadata": {},
   "outputs": [
    {
     "data": {
      "text/plain": [
       "49"
      ]
     },
     "execution_count": 3,
     "metadata": {},
     "output_type": "execute_result"
    }
   ],
   "source": [
    "7\n",
    "7*7"
   ]
  },
  {
   "cell_type": "code",
   "execution_count": 4,
   "id": "2a61a40e",
   "metadata": {},
   "outputs": [
    {
     "name": "stdout",
     "output_type": "stream",
     "text": [
      "7\n"
     ]
    },
    {
     "data": {
      "text/plain": [
       "49"
      ]
     },
     "execution_count": 4,
     "metadata": {},
     "output_type": "execute_result"
    }
   ],
   "source": [
    "print(7)\n",
    "7*7"
   ]
  },
  {
   "cell_type": "code",
   "execution_count": 7,
   "id": "66507620",
   "metadata": {},
   "outputs": [
    {
     "name": "stdout",
     "output_type": "stream",
     "text": [
      "7\n",
      "49\n"
     ]
    }
   ],
   "source": [
    "print(7)\n",
    "print(7*7)"
   ]
  },
  {
   "cell_type": "code",
   "execution_count": 8,
   "id": "479b6f00",
   "metadata": {},
   "outputs": [],
   "source": [
    "name = 'Gabriela'"
   ]
  },
  {
   "cell_type": "code",
   "execution_count": 9,
   "id": "aff7c394",
   "metadata": {},
   "outputs": [
    {
     "data": {
      "text/plain": [
       "'Gabriela'"
      ]
     },
     "execution_count": 9,
     "metadata": {},
     "output_type": "execute_result"
    }
   ],
   "source": [
    "name"
   ]
  },
  {
   "cell_type": "code",
   "execution_count": 10,
   "id": "ad5c6a0f",
   "metadata": {},
   "outputs": [
    {
     "data": {
      "text/plain": [
       "'Gabriela'"
      ]
     },
     "execution_count": 10,
     "metadata": {},
     "output_type": "execute_result"
    }
   ],
   "source": [
    "name"
   ]
  },
  {
   "cell_type": "code",
   "execution_count": 11,
   "id": "bb238c82",
   "metadata": {},
   "outputs": [],
   "source": [
    "name = 'Alexandra'"
   ]
  },
  {
   "cell_type": "code",
   "execution_count": 12,
   "id": "50f5acf0",
   "metadata": {},
   "outputs": [
    {
     "data": {
      "text/plain": [
       "'Alexandra'"
      ]
     },
     "execution_count": 12,
     "metadata": {},
     "output_type": "execute_result"
    }
   ],
   "source": [
    "name"
   ]
  },
  {
   "cell_type": "code",
   "execution_count": 13,
   "id": "86fd5b3c",
   "metadata": {},
   "outputs": [],
   "source": [
    "number = 4"
   ]
  },
  {
   "cell_type": "code",
   "execution_count": 14,
   "id": "5df4b889",
   "metadata": {},
   "outputs": [
    {
     "data": {
      "text/plain": [
       "4"
      ]
     },
     "execution_count": 14,
     "metadata": {},
     "output_type": "execute_result"
    }
   ],
   "source": [
    "number"
   ]
  },
  {
   "cell_type": "code",
   "execution_count": 15,
   "id": "eb94150a",
   "metadata": {},
   "outputs": [
    {
     "data": {
      "text/plain": [
       "16"
      ]
     },
     "execution_count": 15,
     "metadata": {},
     "output_type": "execute_result"
    }
   ],
   "source": [
    "number*number"
   ]
  },
  {
   "cell_type": "markdown",
   "id": "761643a0",
   "metadata": {},
   "source": [
    "## Soutions to the Homework\n",
    "\n",
    "We're getting our data from [the Pokemon API] (https://pokeapi.co).\n",
    "\n",
    "### Probelm 6: Korean names\n",
    "\n",
    "This is a sentence all about what we're going to be doing beow. We're going to be seing now electripokemon are called in Korean."
   ]
  },
  {
   "cell_type": "code",
   "execution_count": 25,
   "id": "0eca0d6e",
   "metadata": {},
   "outputs": [],
   "source": [
    "import requests\n",
    "\n",
    "url = \"https://pokeapi.co/api/v2/type/electric/\"\n",
    "response = requests.get(url)\n",
    "data = response.json()"
   ]
  },
  {
   "cell_type": "code",
   "execution_count": 26,
   "id": "ab08578d",
   "metadata": {},
   "outputs": [],
   "source": [
    "# data"
   ]
  },
  {
   "cell_type": "code",
   "execution_count": 27,
   "id": "11110c64",
   "metadata": {},
   "outputs": [
    {
     "data": {
      "text/plain": [
       "dict_keys(['damage_relations', 'game_indices', 'generation', 'id', 'move_damage_class', 'moves', 'name', 'names', 'past_damage_relations', 'pokemon'])"
      ]
     },
     "execution_count": 27,
     "metadata": {},
     "output_type": "execute_result"
    }
   ],
   "source": [
    "data.keys()"
   ]
  },
  {
   "cell_type": "code",
   "execution_count": 34,
   "id": "f968ffb8",
   "metadata": {},
   "outputs": [
    {
     "name": "stdout",
     "output_type": "stream",
     "text": [
      "I FOUND IT\n",
      "물\n"
     ]
    }
   ],
   "source": [
    "# {\n",
    "#     'language': {\n",
    "#         'name': 'ja-Hrkt',\n",
    "#         'url': 'https://pokeapi.co/api/v2/language/1/'\n",
    "#     },\n",
    "#     'name': 'でんき'\n",
    "# }\n",
    "\n",
    "for name in data['names']:\n",
    "    # print(\"---------\")\n",
    "    # print(name)\n",
    "    # print(name['language']['name'])\n",
    "    # name['name'] is name of the type, not the\n",
    "    # name of the language\n",
    "    if name['language']['name'] == 'ko':\n",
    "        print(\"I FOUND IT\")\n",
    "        print(name['name'])"
   ]
  },
  {
   "cell_type": "code",
   "execution_count": 31,
   "id": "c22555e4",
   "metadata": {},
   "outputs": [
    {
     "data": {
      "text/plain": [
       "'물'"
      ]
     },
     "execution_count": 31,
     "metadata": {},
     "output_type": "execute_result"
    }
   ],
   "source": [
    "data['names'][1]['name']"
   ]
  },
  {
   "cell_type": "markdown",
   "id": "b4a04a36",
   "metadata": {},
   "source": [
    "### Probelm: 9 Pokemon speed"
   ]
  },
  {
   "cell_type": "code",
   "execution_count": 35,
   "id": "fa9ca4a1",
   "metadata": {},
   "outputs": [],
   "source": [
    "url = \"https://pokeapi.co/api/v2/pokemon/pikachu/\"\n",
    "response = requests.get(url)\n",
    "data = response.json()"
   ]
  },
  {
   "cell_type": "code",
   "execution_count": 36,
   "id": "8e52d96b",
   "metadata": {},
   "outputs": [
    {
     "data": {
      "text/plain": [
       "{'base_stat': 90,\n",
       " 'effort': 2,\n",
       " 'stat': {'name': 'speed', 'url': 'https://pokeapi.co/api/v2/stat/6/'}}"
      ]
     },
     "execution_count": 36,
     "metadata": {},
     "output_type": "execute_result"
    }
   ],
   "source": [
    "data['stats'][-1]"
   ]
  },
  {
   "cell_type": "code",
   "execution_count": 37,
   "id": "e8882b2d",
   "metadata": {},
   "outputs": [
    {
     "ename": "NameError",
     "evalue": "name '_________' is not defined",
     "output_type": "error",
     "traceback": [
      "\u001b[1;31m---------------------------------------------------------------------------\u001b[0m",
      "\u001b[1;31mNameError\u001b[0m                                 Traceback (most recent call last)",
      "Input \u001b[1;32mIn [37]\u001b[0m, in \u001b[0;36m<cell line: 1>\u001b[1;34m()\u001b[0m\n\u001b[0;32m      1\u001b[0m \u001b[38;5;28;01mfor\u001b[39;00m stat \u001b[38;5;129;01min\u001b[39;00m data[\u001b[38;5;124m'\u001b[39m\u001b[38;5;124mstats\u001b[39m\u001b[38;5;124m'\u001b[39m]:\n\u001b[1;32m----> 2\u001b[0m     \u001b[38;5;28mprint\u001b[39m(\u001b[43m_________\u001b[49m)\n\u001b[0;32m      3\u001b[0m     \u001b[38;5;28mprint\u001b[39m(stat)\n",
      "\u001b[1;31mNameError\u001b[0m: name '_________' is not defined"
     ]
    }
   ],
   "source": [
    "for stat in data['stats']:\n",
    "    print(\"-----\")\n",
    "    if stat['stat']['name'] == 'speed':\n",
    "        print(\"FOUND SPEED!!!\")\n",
    "        # print(stat)\n",
    "        print(stat['base_stat'])"
   ]
  },
  {
   "cell_type": "code",
   "execution_count": null,
   "id": "a9a1505e",
   "metadata": {},
   "outputs": [],
   "source": []
  }
 ],
 "metadata": {
  "kernelspec": {
   "display_name": "Python 3 (ipykernel)",
   "language": "python",
   "name": "python3"
  },
  "language_info": {
   "codemirror_mode": {
    "name": "ipython",
    "version": 3
   },
   "file_extension": ".py",
   "mimetype": "text/x-python",
   "name": "python",
   "nbconvert_exporter": "python",
   "pygments_lexer": "ipython3",
   "version": "3.10.3"
  }
 },
 "nbformat": 4,
 "nbformat_minor": 5
}
